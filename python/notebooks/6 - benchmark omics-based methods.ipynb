{
 "cells": [
  {
   "cell_type": "code",
   "execution_count": 1,
   "metadata": {
    "collapsed": false
   },
   "outputs": [],
   "source": [
    "from framed.omics.simulation import GIMME, eflux\n",
    "from framed.io_utils.sbml import load_cbmodel\n",
    "from framed.omics.dataset import DataSet\n",
    "from framed.analysis.simulation import pFBA\n",
    "from framed.experimental.fluxutils import compare_fluxes\n",
    "from framed.experimental.benchmark import benchmark, run_method\n",
    "from collections import OrderedDict\n",
    "import pandas as pd\n",
    "import seaborn as sns\n",
    "import matplotlib.pyplot as plt\n",
    "from gurobipy import setParam\n",
    "\n",
    "setParam('FeasibilityTol', 1e-9) # fixes failed simulation in EFlux\n",
    "%matplotlib inline\n",
    "sns.set_style(\"whitegrid\")"
   ]
  },
  {
   "cell_type": "code",
   "execution_count": 2,
   "metadata": {
    "collapsed": true
   },
   "outputs": [],
   "source": [
    "%run '../src/gpr_mapping.py'\n",
    "%run '../src/simulation.py'\n",
    "%run '../src/transcriptomics.py'"
   ]
  },
  {
   "cell_type": "markdown",
   "metadata": {},
   "source": [
    "## Load model and Ishii dataset"
   ]
  },
  {
   "cell_type": "code",
   "execution_count": 4,
   "metadata": {
    "collapsed": false
   },
   "outputs": [],
   "source": [
    "modelpath = '../../models/iAF1260.xml'\n",
    "model = load_cbmodel(modelpath, flavor='cobra')\n",
    "model.set_lower_bound('R_EX_glc_e', 0)\n",
    "model_ext = transform(model, inplace=False)"
   ]
  },
  {
   "cell_type": "code",
   "execution_count": 5,
   "metadata": {
    "collapsed": false
   },
   "outputs": [],
   "source": [
    "dataset = DataSet('../../data/ishii2007/dataset.json')\n",
    "measured_fluxes = ['R_EX_glc_e']"
   ]
  },
  {
   "cell_type": "markdown",
   "metadata": {},
   "source": [
    "## Benchmark pFBA, gene-pFBA, GIMME, gene-GIMME, E-Flux, gene-EFlux"
   ]
  },
  {
   "cell_type": "code",
   "execution_count": null,
   "metadata": {
    "collapsed": true
   },
   "outputs": [],
   "source": [
    "%time result_pFBA = benchmark(run_pFBA, model, dataset, measured_fluxes=measured_fluxes)\n",
    "%time result_g_pFBA = benchmark(run_g_pFBA, model_ext, dataset, measured_fluxes=measured_fluxes)"
   ]
  },
  {
   "cell_type": "code",
   "execution_count": 8,
   "metadata": {
    "collapsed": false,
    "scrolled": true
   },
   "outputs": [
    {
     "name": "stdout",
     "output_type": "stream",
     "text": [
      "CPU times: user 42.1 s, sys: 595 ms, total: 42.7 s\n",
      "Wall time: 43 s\n",
      "Biomass reaction detected: R_Ec_biomass_iAF1260_core_59p81M\n",
      "CPU times: user 1min 39s, sys: 1.13 s, total: 1min 40s\n",
      "Wall time: 1min 41s\n",
      "CPU times: user 47.3 s, sys: 575 ms, total: 47.9 s\n",
      "Wall time: 58.2 s\n",
      "CPU times: user 2min 7s, sys: 1.53 s, total: 2min 8s\n",
      "Wall time: 2min 30s\n"
     ]
    }
   ],
   "source": [
    "%time result_GIMME = benchmark(run_GIMME, model, dataset, parsimonious=True, measured_fluxes=measured_fluxes)\n",
    "%time result_g_GIMME = benchmark(run_gpr_GIMME, model_ext, dataset, parsimonious=True, measured_fluxes=measured_fluxes)\n",
    "%time result_eflux = benchmark(run_eflux, model, dataset, parsimonious=True, measured_fluxes=measured_fluxes)\n",
    "%time result_gpr_eflux = benchmark(run_gpr_eflux, model_ext, dataset, parsimonious=True, measured_fluxes=measured_fluxes)"
   ]
  },
  {
   "cell_type": "code",
   "execution_count": 9,
   "metadata": {
    "collapsed": false
   },
   "outputs": [],
   "source": [
    "error_pFBA = [x[0] for x in result_pFBA.values()]\n",
    "error_g_pFBA = [x[0] for x in result_g_pFBA.values()]\n",
    "error_GIMME = [x[0] for x in result_GIMME.values()]\n",
    "error_g_GIMME = [x[0] for x in result_g_GIMME.values()]\n",
    "error_eflux = [x[0] for x in result_eflux.values()]\n",
    "error_g_eflux = [x[0] for x in result_gpr_eflux.values()]"
   ]
  },
  {
   "cell_type": "markdown",
   "metadata": {
    "collapsed": true
   },
   "source": [
    "## Load Gerosa dataset"
   ]
  },
  {
   "cell_type": "code",
   "execution_count": 10,
   "metadata": {
    "collapsed": false
   },
   "outputs": [],
   "source": [
    "dataset = DataSet('../../data/gerosa2015/dataset.json')\n",
    "measured_fluxes = {condition: ['R_EX_{}_e'.format(met)]\n",
    "                   for condition, met in dataset.carbon_source.iteritems()}"
   ]
  },
  {
   "cell_type": "code",
   "execution_count": 11,
   "metadata": {
    "collapsed": false
   },
   "outputs": [
    {
     "name": "stdout",
     "output_type": "stream",
     "text": [
      "CPU times: user 12 s, sys: 117 ms, total: 12.1 s\n",
      "Wall time: 13.4 s\n",
      "CPU times: user 21.6 s, sys: 406 ms, total: 22 s\n",
      "Wall time: 26.3 s\n",
      "CPU times: user 13.5 s, sys: 140 ms, total: 13.6 s\n",
      "Wall time: 14.2 s\n",
      "CPU times: user 33.3 s, sys: 287 ms, total: 33.6 s\n",
      "Wall time: 36.5 s\n",
      "CPU times: user 15.6 s, sys: 167 ms, total: 15.8 s\n",
      "Wall time: 18.8 s\n",
      "CPU times: user 43.7 s, sys: 502 ms, total: 44.2 s\n",
      "Wall time: 53.5 s\n"
     ]
    }
   ],
   "source": [
    "%time result_pFBA2 = benchmark(run_pFBA, model, dataset, measured_fluxes=measured_fluxes)\n",
    "%time result_g_pFBA2 = benchmark(run_g_pFBA, model_ext, dataset, measured_fluxes=measured_fluxes)\n",
    "%time result_GIMME2 = benchmark(run_GIMME, model, dataset, parsimonious=True, measured_fluxes=measured_fluxes)\n",
    "%time result_g_GIMME2 = benchmark(run_gpr_GIMME, model_ext, dataset, parsimonious=True, measured_fluxes=measured_fluxes)\n",
    "%time result_eflux2 = benchmark(run_eflux, model, dataset, parsimonious=True, measured_fluxes=measured_fluxes)\n",
    "%time result_gpr_eflux2 = benchmark(run_gpr_eflux, model_ext, dataset, parsimonious=True, measured_fluxes=measured_fluxes)"
   ]
  },
  {
   "cell_type": "code",
   "execution_count": 12,
   "metadata": {
    "collapsed": true
   },
   "outputs": [],
   "source": [
    "error_pFBA2 = [x[0] for x in result_pFBA2.values()]\n",
    "error_g_pFBA2 = [x[0] for x in result_g_pFBA2.values()]\n",
    "error_GIMME2 = [x[0] for x in result_GIMME2.values()]\n",
    "error_g_GIMME2 = [x[0] for x in result_g_GIMME2.values()]\n",
    "error_eflux2 = [x[0] for x in result_eflux2.values()]\n",
    "error_g_eflux2 = [x[0] for x in result_gpr_eflux2.values()]"
   ]
  },
  {
   "cell_type": "markdown",
   "metadata": {
    "collapsed": true
   },
   "source": [
    "## Plot results"
   ]
  },
  {
   "cell_type": "code",
   "execution_count": 17,
   "metadata": {
    "collapsed": false
   },
   "outputs": [
    {
     "data": {
      "image/png": "[encoded data removed]",
      "text/plain": [
       "<matplotlib.figure.Figure at 0x112d5ed90>"
      ]
     },
     "metadata": {},
     "output_type": "display_data"
    }
   ],
   "source": [
    "data = OrderedDict([('pFBA', error_pFBA),\n",
    "                    ('gene-pFBA', error_g_pFBA),\n",
    "                    ('GIMME', error_GIMME),\n",
    "                    ('gene-GIMME', error_g_GIMME),\n",
    "                    ('E-Flux', error_eflux),\n",
    "                    ('gene-EFlux', error_g_eflux)])\n",
    "\n",
    "data2 = OrderedDict([('pFBA', error_pFBA2),\n",
    "                     ('gene-pFBA', error_g_pFBA2),\n",
    "                     ('GIMME', error_GIMME2),\n",
    "                     ('gene-GIMME', error_g_GIMME2),\n",
    "                     ('E-Flux', error_eflux2),\n",
    "                     ('gene-EFlux', error_g_eflux2)])\n",
    "\n",
    "fig, axs = plt.subplots(1,2,figsize=(10,4))\n",
    "sns.boxplot(pd.DataFrame(data), ax=axs[0], palette=sns.color_palette(\"muted\", n_colors=2))  \n",
    "sns.boxplot(pd.DataFrame(data2), ax=axs[1], palette=sns.color_palette(\"muted\", n_colors=2))\n",
    "axs[0].set_title('Ishii 2007')\n",
    "axs[1].set_title('Gerosa 2015')\n",
    "axs[0].set_ylim((0,1))\n",
    "axs[1].set_ylim((0,1))\n",
    "axs[0].set_ylabel('error')\n",
    "axs[1].set_ylabel('error')\n",
    "plt.subplots_adjust(wspace=0.2)\n",
    "plt.tight_layout()\n",
    "plt.savefig('../../results/transcriptomics/transcriptomics.png', dpi=150)"
   ]
  },
  {
   "cell_type": "code",
   "execution_count": null,
   "metadata": {
    "collapsed": true
   },
   "outputs": [],
   "source": []
  }
 ],
 "metadata": {
  "kernelspec": {
   "display_name": "Python 2",
   "language": "python",
   "name": "python2"
  },
  "language_info": {
   "codemirror_mode": {
    "name": "ipython",
    "version": 2
   },
   "file_extension": ".py",
   "mimetype": "text/x-python",
   "name": "python",
   "nbconvert_exporter": "python",
   "pygments_lexer": "ipython2",
   "version": "2.7.12"
  }
 },
 "nbformat": 4,
 "nbformat_minor": 0
}
