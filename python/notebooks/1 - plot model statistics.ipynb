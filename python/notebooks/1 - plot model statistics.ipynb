{
 "cells": [
  {
   "cell_type": "code",
   "execution_count": 1,
   "metadata": {
    "collapsed": false
   },
   "outputs": [],
   "source": [
    "from __future__ import division\n",
    "from framed.io_utils.sbml import load_cbmodel\n",
    "import seaborn as sns\n",
    "import matplotlib.pyplot as plt\n",
    "import numpy as np\n",
    "%matplotlib inline\n",
    "sns.set_style(\"white\")"
   ]
  },
  {
   "cell_type": "code",
   "execution_count": 2,
   "metadata": {
    "collapsed": false
   },
   "outputs": [],
   "source": [
    "model = load_cbmodel('../../models/iAF1260.xml', flavor='cobra')"
   ]
  },
  {
   "cell_type": "code",
   "execution_count": 5,
   "metadata": {
    "collapsed": false
   },
   "outputs": [],
   "source": [
    "for r_id, gpr in model.gpr_associations.items():\n",
    "    if gpr is not None:\n",
    "        for protein in gpr.proteins:\n",
    "            if 's0001' in protein.genes:\n",
    "                gpr.proteins.remove(protein)\n",
    "            else:\n",
    "                protein.genes = sorted(protein.genes)\n",
    "\n",
    "complexes = {}\n",
    "for r_id, gpr in model.gpr_associations.items():\n",
    "    if gpr is not None:\n",
    "        for protein in gpr.proteins:\n",
    "            complexes[str(protein)] = protein\n",
    "\n",
    "complex_size = [len(pc.genes) for pc in complexes.values()]\n",
    "\n",
    "isozyme_number = [len(gpr.proteins) for gpr in model.gpr_associations.values()\n",
    "                  if gpr is not None and len(gpr.proteins) > 0]\n",
    "\n",
    "rxn2complex = {}\n",
    "for r_id, gpr in model.gpr_associations.items():\n",
    "    if gpr is not None:\n",
    "        rxn2complex[r_id] = [str(protein) for protein in gpr.proteins]\n",
    "\n",
    "complex2rxn = {}\n",
    "for pc in complexes:\n",
    "    complex2rxn[pc] = []\n",
    "    for r_id, pcs in rxn2complex.items():\n",
    "        if pc in pcs:\n",
    "            complex2rxn[pc].append(r_id)\n",
    "\n",
    "promiscuity = [len(rxns) for rxns in complex2rxn.values()]"
   ]
  },
  {
   "cell_type": "code",
   "execution_count": 6,
   "metadata": {
    "collapsed": false
   },
   "outputs": [
    {
     "data": {
      "image/png": "[encoded data removed]",
      "text/plain": [
       "<matplotlib.figure.Figure at 0x11165b590>"
      ]
     },
     "metadata": {},
     "output_type": "display_data"
    }
   ],
   "source": [
    "plt.figure(figsize=(12,4))\n",
    "plt.subplot(1,3,1)\n",
    "plt.hist(complex_size, log=True, bins=np.arange(0.5, 14.5), rwidth=0.8, align='mid')\n",
    "plt.ylim((0.95, 1e3))\n",
    "plt.xlim((0.5, 13.5))\n",
    "plt.xticks(range(1,14));\n",
    "plt.xlabel('# subunits')\n",
    "plt.ylabel('# enzymes')\n",
    "plt.title('a) subunits per enzyme')\n",
    "\n",
    "plt.subplot(1,3,2)\n",
    "plt.hist(isozyme_number, log=True, bins=np.arange(0.5, 8.5), rwidth=0.8, align='mid')\n",
    "plt.ylim((0.95, 2e3))\n",
    "plt.xlim((0.5, 7.5))\n",
    "plt.xlabel('# isozymes')\n",
    "plt.ylabel('# reactions')\n",
    "plt.title('b) isozymes per reaction')\n",
    "\n",
    "plt.subplot(1,3,3)\n",
    "plt.hist(promiscuity, log=True, bins=np.arange(0.5, 25.5), rwidth=0.8, align='mid')\n",
    "plt.ylim((0.95, 1e3))\n",
    "plt.xlim((0.5, 25.5))\n",
    "plt.xlabel('# reactions')\n",
    "plt.ylabel('# enzymes')\n",
    "plt.title('c) reactions per enzyme')\n",
    "plt.tight_layout()\n",
    "plt.savefig('../../results/statistics/statistics_iAF1260.png', dpi=150)"
   ]
  },
  {
   "cell_type": "code",
   "execution_count": null,
   "metadata": {
    "collapsed": false,
    "scrolled": true
   },
   "outputs": [],
   "source": [
    "plt.figure(figsize=(2.5,1.5))\n",
    "plt.hist(promiscuity, log=True, bins=np.linspace(0, 250, 25), rwidth=0.8, align='mid')\n",
    "plt.ylim((0.95, 2e3))\n",
    "plt.xlim((0, 250))\n",
    "plt.tight_layout()\n",
    "plt.savefig('../../results/statistics/overlay_iAF1260.png', dpi=150)"
   ]
  },
  {
   "cell_type": "code",
   "execution_count": null,
   "metadata": {
    "collapsed": true
   },
   "outputs": [],
   "source": []
  }
 ],
 "metadata": {
  "kernelspec": {
   "display_name": "Python 2",
   "language": "python",
   "name": "python2"
  },
  "language_info": {
   "codemirror_mode": {
    "name": "ipython",
    "version": 2
   },
   "file_extension": ".py",
   "mimetype": "text/x-python",
   "name": "python",
   "nbconvert_exporter": "python",
   "pygments_lexer": "ipython2",
   "version": "2.7.12"
  }
 },
 "nbformat": 4,
 "nbformat_minor": 0
}
