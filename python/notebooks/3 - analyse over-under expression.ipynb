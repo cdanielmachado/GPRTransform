{
 "cells": [
  {
   "cell_type": "code",
   "execution_count": 1,
   "metadata": {
    "collapsed": false,
    "scrolled": true
   },
   "outputs": [],
   "source": [
    "from framed.io_utils.sbml import load_cbmodel\n",
    "import matplotlib.pyplot as plt\n",
    "import seaborn as sns\n",
    "from numpy import arange\n",
    "sns.set_style(\"white\")\n",
    "%matplotlib inline"
   ]
  },
  {
   "cell_type": "code",
   "execution_count": 2,
   "metadata": {
    "collapsed": true
   },
   "outputs": [],
   "source": [
    "%run '../src/gpr_mapping.py'\n",
    "%run '../src/simulation.py'"
   ]
  },
  {
   "cell_type": "markdown",
   "metadata": {},
   "source": [
    "## Load and transform iAF1260 model"
   ]
  },
  {
   "cell_type": "code",
   "execution_count": 3,
   "metadata": {
    "collapsed": false,
    "scrolled": true
   },
   "outputs": [],
   "source": [
    "model = load_cbmodel('../../models/iAF1260_reduced.xml', flavor='cobra')\n",
    "model_ext = transform(model, inplace=False)"
   ]
  },
  {
   "cell_type": "markdown",
   "metadata": {},
   "source": [
    "## Simulate the over/under-expression of b0116 (lpd)"
   ]
  },
  {
   "cell_type": "code",
   "execution_count": 4,
   "metadata": {
    "collapsed": false,
    "scrolled": true
   },
   "outputs": [
    {
     "name": "stdout",
     "output_type": "stream",
     "text": [
      "Biomass reaction detected: R_Ec_biomass_iAF1260_core_59p81M\n"
     ]
    }
   ],
   "source": [
    "sol = gene_pFBA(model_ext)\n",
    "ref = sol.values['u_b0116']\n",
    "biomass = model_ext.detect_biomass_reaction()\n",
    "x0 = [1]\n",
    "y0 = ([sol.values['R_PDH']], [sol.values['R_AKGDH']], [sol.values['R_GLYCL']])"
   ]
  },
  {
   "cell_type": "code",
   "execution_count": 5,
   "metadata": {
    "collapsed": false,
    "scrolled": true
   },
   "outputs": [],
   "source": [
    "y1, y2, y3, mu = [], [], [], []\n",
    "x = arange(0, 2.02, 0.02)\n",
    "\n",
    "for k in x:\n",
    "    sol = gene_pFBA(model_ext, constraints={'u_b0116': (ref*k, ref*k)})\n",
    "    y1.append(sol.values['R_PDH'])\n",
    "    y2.append(sol.values['R_AKGDH'])\n",
    "    y3.append(sol.values['R_GLYCL'])\n",
    "    mu.append(sol.values[biomass])"
   ]
  },
  {
   "cell_type": "markdown",
   "metadata": {},
   "source": [
    "## Plot results"
   ]
  },
  {
   "cell_type": "code",
   "execution_count": 6,
   "metadata": {
    "collapsed": false,
    "scrolled": true
   },
   "outputs": [
    {
     "data": {
      "text/plain": [
       "<matplotlib.text.Text at 0x10fbb5f10>"
      ]
     },
     "execution_count": 6,
     "metadata": {},
     "output_type": "execute_result"
    },
    {
     "data": {
      "image/png": "[encoded data removed]",
      "text/plain": [
       "<matplotlib.figure.Figure at 0x103016150>"
      ]
     },
     "metadata": {},
     "output_type": "display_data"
    }
   ],
   "source": [
    "colors = sns.color_palette()\n",
    "plt.figure(figsize=(5,4))\n",
    "plt.plot(x, y1, color=colors[0])\n",
    "plt.plot(x, y2, color=colors[1])\n",
    "plt.plot(x, y3, color=colors[2])\n",
    "plt.plot(x0, y0[0], 'o', color=colors[0])\n",
    "plt.plot(x0, y0[1], 'o', color=colors[1])\n",
    "plt.plot(x0, y0[2], 'o', color=colors[2])\n",
    "plt.legend(['PDH', 'AKGDH', 'GLYCL'], loc='best')\n",
    "plt.xlabel('lpd (relative expression)')\n",
    "plt.ylabel('reaction flux (mmol/gDW/h)')\n",
    "plt.savefig('../../results/phenotype/lpd.png', dpi=150)"
   ]
  },
  {
   "cell_type": "code",
   "execution_count": null,
   "metadata": {
    "collapsed": true
   },
   "outputs": [],
   "source": []
  }
 ],
 "metadata": {
  "kernelspec": {
   "display_name": "Python 2",
   "language": "python",
   "name": "python2"
  },
  "language_info": {
   "codemirror_mode": {
    "name": "ipython",
    "version": 2
   },
   "file_extension": ".py",
   "mimetype": "text/x-python",
   "name": "python",
   "nbconvert_exporter": "python",
   "pygments_lexer": "ipython2",
   "version": "2.7.12"
  }
 },
 "nbformat": 4,
 "nbformat_minor": 0
}
