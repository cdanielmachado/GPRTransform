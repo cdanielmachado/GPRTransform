{
 "cells": [
  {
   "cell_type": "markdown",
   "metadata": {},
   "source": [
    "## General imports and definitions"
   ]
  },
  {
   "cell_type": "code",
   "execution_count": null,
   "metadata": {
    "collapsed": false
   },
   "outputs": [],
   "source": [
    "from framed.io_utils.sbml import load_cbmodel\n",
    "from framed.analysis.simulation import pFBA, FBA\n",
    "from framed.analysis.variability import FVA\n",
    "from framed.core.transformation import simplify\n",
    "import pandas as pd\n",
    "import seaborn as sns\n",
    "%pylab inline\n",
    "sns.set_style(\"whitegrid\")"
   ]
  },
  {
   "cell_type": "code",
   "execution_count": null,
   "metadata": {
    "collapsed": true
   },
   "outputs": [],
   "source": [
    "%run '../src/gpr_mapping.py'"
   ]
  },
  {
   "cell_type": "markdown",
   "metadata": {},
   "source": [
    "## Load and transform iAF1260"
   ]
  },
  {
   "cell_type": "code",
   "execution_count": null,
   "metadata": {
    "collapsed": false
   },
   "outputs": [],
   "source": [
    "gs_model = load_cbmodel('../../models/iAF1260_reduced.xml', flavor='cobra')\n",
    "gs_model_ext = transform(gs_model, inplace=False)"
   ]
  },
  {
   "cell_type": "markdown",
   "metadata": {},
   "source": [
    "## Run FVA for iAF1260"
   ]
  },
  {
   "cell_type": "code",
   "execution_count": null,
   "metadata": {
    "collapsed": false
   },
   "outputs": [],
   "source": [
    "%%time\n",
    "min_growth = 0.1\n",
    "var = FVA(gs_model, obj_percentage=min_growth)\n",
    "loops = [r_id for r_id, (lb, ub) in var.items() if lb is None or ub is None]"
   ]
  },
  {
   "cell_type": "code",
   "execution_count": null,
   "metadata": {
    "collapsed": false
   },
   "outputs": [],
   "source": [
    "%%time\n",
    "var_loops = FVA(gs_model, obj_percentage=min_growth, reactions=loops,\n",
    "                loopless=True, internal=loops)\n",
    "var.update(var_loops)"
   ]
  },
  {
   "cell_type": "code",
   "execution_count": null,
   "metadata": {
    "collapsed": false
   },
   "outputs": [],
   "source": [
    "%%time\n",
    "constraints = gs_model_ext.convert_constraints(dict(var))\n",
    "synth_reactions = [r_id for r_id in gs_model_ext.reactions if r_id.startswith('u_')]\n",
    "var_synth = FVA(gs_model_ext, obj_percentage=min_growth, \n",
    "                reactions=synth_reactions, constraints=constraints)"
   ]
  },
  {
   "cell_type": "markdown",
   "metadata": {},
   "source": [
    "## Plot Results"
   ]
  },
  {
   "cell_type": "code",
   "execution_count": null,
   "metadata": {
    "collapsed": false
   },
   "outputs": [],
   "source": [
    "figure(figsize=(7,4))\n",
    "x = range(len(synth_reactions))\n",
    "lb, ub = array(var_synth.values()).T\n",
    "ub1, ub2 = ub[lb > 0], ub[lb == 0]\n",
    "lb1, lb2 = lb[lb > 0], lb[lb == 0]\n",
    "ind1, ind2 = argsort(-ub1), argsort(-ub2)\n",
    "lb = concatenate((lb1[ind1], lb2[ind2]))\n",
    "ub = concatenate((ub1[ind1], ub2[ind2]))\n",
    "bar(x, ub, bottom=lb, width=1, linewidth=0)\n",
    "xlim((0, len(x)))\n",
    "xticks([])\n",
    "yscale('symlog', linthreshy=1e-5)\n",
    "yticks([0, 1e-4, 1e-2, 1e0, 1e2, 1e4])\n",
    "ylabel('enzyme usage variability (mmol/gDW/h)')\n",
    "text(15, -6e-6, 'essential genes')\n",
    "text(450, -6e-6, 'non-essential genes')\n",
    "savefig('../results/essentiality/essentiality.png', dpi=150)"
   ]
  }
 ],
 "metadata": {
  "kernelspec": {
   "display_name": "Python 2",
   "language": "python",
   "name": "python2"
  },
  "language_info": {
   "codemirror_mode": {
    "name": "ipython",
    "version": 2
   },
   "file_extension": ".py",
   "mimetype": "text/x-python",
   "name": "python",
   "nbconvert_exporter": "python",
   "pygments_lexer": "ipython2",
   "version": "2.7.12"
  }
 },
 "nbformat": 4,
 "nbformat_minor": 0
}
