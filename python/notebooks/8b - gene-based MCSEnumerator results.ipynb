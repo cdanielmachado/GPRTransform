{
 "cells": [
  {
   "cell_type": "code",
   "execution_count": 1,
   "metadata": {
    "collapsed": false
   },
   "outputs": [
    {
     "name": "stderr",
     "output_type": "stream",
     "text": [
      "/Users/daniel/miniconda2/lib/python2.7/site-packages/matplotlib/__init__.py:872: UserWarning: axes.color_cycle is deprecated and replaced with axes.prop_cycle; please use the latter.\n",
      "  warnings.warn(self.msg_depr % (key, alt_key))\n"
     ]
    }
   ],
   "source": [
    "from framed.io_utils.sbml import load_cbmodel\n",
    "import pandas as pd\n",
    "from scipy.io import loadmat\n",
    "import matplotlib.pyplot as plt\n",
    "import seaborn as sns\n",
    "\n",
    "%matplotlib inline\n",
    "sns.set_style('whitegrid')"
   ]
  },
  {
   "cell_type": "code",
   "execution_count": 2,
   "metadata": {
    "collapsed": true
   },
   "outputs": [],
   "source": [
    "%run '../src/straindesign.py'"
   ]
  },
  {
   "cell_type": "markdown",
   "metadata": {},
   "source": [
    "## Load iAF1260 (MCS customized) model "
   ]
  },
  {
   "cell_type": "code",
   "execution_count": 4,
   "metadata": {
    "collapsed": false
   },
   "outputs": [
    {
     "name": "stdout",
     "output_type": "stream",
     "text": [
      "Biomass reaction detected: R_Ec_biomass_iAF1260_core_59p81M\n"
     ]
    }
   ],
   "source": [
    "model = load_cbmodel('../../models/iAF1260_MCSEnum.xml', flavor='cobra')\n",
    "model_ext = load_cbmodel('../../models/iAF1260_MCSEnum_unfolded.xml', flavor='cobra')\n",
    "\n",
    "biomass = model.detect_biomass_reaction()\n",
    "product = 'R_EX_etoh_e'\n",
    "oxygen = 'R_EX_o2_e'\n",
    "glucose = 'R_EX_glc_e'\n",
    "objective = lambda v: v[product]\n",
    "min_growth = 0.001\n",
    "max_uptake = 10\n",
    "min_yield = 1.4\n",
    "min_prod = min_yield*max_uptake\n",
    "model.set_lower_bound(oxygen, 0)\n",
    "model.set_lower_bound(glucose, -max_uptake)\n",
    "constraints={biomass: (min_growth, 1e10), product: (min_prod, 1e10)}"
   ]
  },
  {
   "cell_type": "markdown",
   "metadata": {},
   "source": [
    "## Load gpr-based MCSEnumerator results (scenario 1)"
   ]
  },
  {
   "cell_type": "code",
   "execution_count": 16,
   "metadata": {
    "collapsed": false
   },
   "outputs": [],
   "source": [
    "data = loadmat('../../results/mcs/mcs_iAF1260_gpr_MCSEnum_max8.mat')\n",
    "cmcs = pd.DataFrame(data['cmcs'].T, index=model_ext.reactions.keys())\n",
    "gene_dels = [cmcs[cmcs[col] == 1].index.tolist() for col in cmcs]\n",
    "gene_dels = [[r_id[len('u_'):] for r_id in gene_set] for gene_set in gene_dels]"
   ]
  },
  {
   "cell_type": "markdown",
   "metadata": {},
   "source": [
    "## Analyse results"
   ]
  },
  {
   "cell_type": "code",
   "execution_count": 17,
   "metadata": {
    "collapsed": false
   },
   "outputs": [
    {
     "name": "stdout",
     "output_type": "stream",
     "text": [
      "CPU times: user 9.4 s, sys: 176 ms, total: 9.57 s\n",
      "Wall time: 9.82 s\n"
     ]
    }
   ],
   "source": [
    "%time gene2rxns = gene_to_reaction_sets2(model, gene_dels)"
   ]
  },
  {
   "cell_type": "code",
   "execution_count": 18,
   "metadata": {
    "collapsed": false
   },
   "outputs": [
    {
     "name": "stdout",
     "output_type": "stream",
     "text": [
      "CPU times: user 10.4 s, sys: 149 ms, total: 10.6 s\n",
      "Wall time: 12.2 s\n"
     ]
    }
   ],
   "source": [
    "%time solution_pool = build_reaction_solution_pool2(model, gene2rxns, constraints)"
   ]
  },
  {
   "cell_type": "code",
   "execution_count": 19,
   "metadata": {
    "collapsed": false
   },
   "outputs": [],
   "source": [
    "sizes = sorted(set(map(len, gene_dels)))\n",
    "\n",
    "columns = ['gene-based cMCSs', 'reaction-wise total', 'valid', 'reaction deletion size']\n",
    "stats = pd.DataFrame([], columns=columns)\n",
    "total_set_count = []\n",
    "rxn_set_count = []\n",
    "rxn_set_sizes = []\n",
    "\n",
    "for n_dels in sizes:\n",
    "    total_sets = [tuple(sorted(gene_set)) for gene_set in gene_dels\n",
    "                  if len(gene_set) == n_dels]\n",
    "    total_set_count.append(len(total_sets))\n",
    "\n",
    "    rxn_sets = set([gene2rxns[gene_set] for gene_set in total_sets])\n",
    "    rxn_set_count.append(len(rxn_sets))\n",
    "\n",
    "    valid_rxn_sets = [rxn_set for rxn_set in rxn_sets \n",
    "                      if solution_pool[rxn_set].valid]\n",
    "\n",
    "    rxn_set_size = map(len, rxn_sets)\n",
    "    rxn_set_sizes.append(rxn_set_size)\n",
    "\n",
    "    stats.loc[n_dels] = (len(total_sets),\n",
    "                      len(rxn_sets),\n",
    "                      len(valid_rxn_sets),\n",
    "                      '[{} - {}]'.format(min(rxn_set_size), max(rxn_set_size)))\n",
    "\n",
    "stats.index.name = 'n dels'"
   ]
  },
  {
   "cell_type": "code",
   "execution_count": 20,
   "metadata": {
    "collapsed": false
   },
   "outputs": [
    {
     "data": {
      "text/html": [
       "<div>\n",
       "<table border=\"1\" class=\"dataframe\">\n",
       "  <thead>\n",
       "    <tr style=\"text-align: right;\">\n",
       "      <th></th>\n",
       "      <th>gene-based cMCSs</th>\n",
       "      <th>reaction-wise total</th>\n",
       "      <th>valid</th>\n",
       "      <th>reaction deletion size</th>\n",
       "    </tr>\n",
       "    <tr>\n",
       "      <th>n dels</th>\n",
       "      <th></th>\n",
       "      <th></th>\n",
       "      <th></th>\n",
       "      <th></th>\n",
       "    </tr>\n",
       "  </thead>\n",
       "  <tbody>\n",
       "    <tr>\n",
       "      <th>4</th>\n",
       "      <td>8</td>\n",
       "      <td>8</td>\n",
       "      <td>7</td>\n",
       "      <td>[3 - 7]</td>\n",
       "    </tr>\n",
       "    <tr>\n",
       "      <th>5</th>\n",
       "      <td>40</td>\n",
       "      <td>6</td>\n",
       "      <td>6</td>\n",
       "      <td>[5 - 22]</td>\n",
       "    </tr>\n",
       "    <tr>\n",
       "      <th>6</th>\n",
       "      <td>1978</td>\n",
       "      <td>10</td>\n",
       "      <td>10</td>\n",
       "      <td>[4 - 22]</td>\n",
       "    </tr>\n",
       "  </tbody>\n",
       "</table>\n",
       "</div>"
      ],
      "text/plain": [
       "        gene-based cMCSs  reaction-wise total  valid reaction deletion size\n",
       "n dels                                                                     \n",
       "4                      8                    8      7                [3 - 7]\n",
       "5                     40                    6      6               [5 - 22]\n",
       "6                   1978                   10     10               [4 - 22]"
      ]
     },
     "execution_count": 20,
     "metadata": {},
     "output_type": "execute_result"
    }
   ],
   "source": [
    "stats"
   ]
  },
  {
   "cell_type": "code",
   "execution_count": 12,
   "metadata": {
    "collapsed": false
   },
   "outputs": [
    {
     "name": "stderr",
     "output_type": "stream",
     "text": [
      "/Users/daniel/miniconda2/lib/python2.7/site-packages/matplotlib/__init__.py:892: UserWarning: axes.color_cycle is deprecated and replaced with axes.prop_cycle; please use the latter.\n",
      "  warnings.warn(self.msg_depr % (key, alt_key))\n"
     ]
    }
   ],
   "source": [
    "colors = sns.color_palette()"
   ]
  },
  {
   "cell_type": "code",
   "execution_count": 21,
   "metadata": {
    "collapsed": false
   },
   "outputs": [
    {
     "data": {
      "image/png": "[encoded data removed]",
      "text/plain": [
       "<matplotlib.figure.Figure at 0x112a81450>"
      ]
     },
     "metadata": {},
     "output_type": "display_data"
    }
   ],
   "source": [
    "plt.figure(figsize=(4,3))\n",
    "sns.barplot(sizes, total_set_count, log=True, color=colors[0])\n",
    "plt.xlabel('cut set size')\n",
    "plt.ylabel('# of cMCS')\n",
    "plt.tight_layout()\n",
    "plt.savefig('../results/mcs/plots/gpr_cmcs_size.png', dpi=150)"
   ]
  },
  {
   "cell_type": "code",
   "execution_count": 22,
   "metadata": {
    "collapsed": false
   },
   "outputs": [
    {
     "data": {
      "text/plain": [
       "([<matplotlib.axis.YTick at 0x112e95fd0>,\n",
       "  <matplotlib.axis.YTick at 0x112e95b10>,\n",
       "  <matplotlib.axis.YTick at 0x11271fcd0>,\n",
       "  <matplotlib.axis.YTick at 0x112732350>],\n",
       " <a list of 4 Text yticklabel objects>)"
      ]
     },
     "execution_count": 22,
     "metadata": {},
     "output_type": "execute_result"
    },
    {
     "data": {
      "image/png": "[encoded data removed]",
      "text/plain": [
       "<matplotlib.figure.Figure at 0x11040acd0>"
      ]
     },
     "metadata": {},
     "output_type": "display_data"
    }
   ],
   "source": [
    "plt.figure(figsize=(4,3))\n",
    "sns.barplot(sizes, rxn_set_count, color=colors[0])\n",
    "plt.xlabel('cut set size')\n",
    "plt.ylabel('# of reaction-wise solutions')\n",
    "plt.tight_layout()\n",
    "plt.yticks([0, 10, 20, 30])\n",
    "plt.savefig('../results/mcs/plots/gpr_rxn_sols.png', dpi=150)"
   ]
  },
  {
   "cell_type": "code",
   "execution_count": 23,
   "metadata": {
    "collapsed": false
   },
   "outputs": [
    {
     "data": {
      "image/png": "[encoded data removed]",
      "text/plain": [
       "<matplotlib.figure.Figure at 0x115ad1790>"
      ]
     },
     "metadata": {},
     "output_type": "display_data"
    }
   ],
   "source": [
    "plt.figure(figsize=(4,3))\n",
    "ax = sns.boxplot(pd.DataFrame(rxn_set_sizes, index=sizes).T, fliersize=5, sym='o', color=colors[0])\n",
    "plt.xlabel('cut set size')\n",
    "plt.ylabel('reaction deletion size')\n",
    "plt.yticks([0, 10, 20, 30])\n",
    "plt.tight_layout()\n",
    "plt.savefig('../results/mcs/plots/gpr_rxn_cut_size.png', dpi=150)"
   ]
  },
  {
   "cell_type": "code",
   "execution_count": null,
   "metadata": {
    "collapsed": true
   },
   "outputs": [],
   "source": []
  }
 ],
 "metadata": {
  "kernelspec": {
   "display_name": "Python 2",
   "language": "python",
   "name": "python2"
  },
  "language_info": {
   "codemirror_mode": {
    "name": "ipython",
    "version": 2
   },
   "file_extension": ".py",
   "mimetype": "text/x-python",
   "name": "python",
   "nbconvert_exporter": "python",
   "pygments_lexer": "ipython2",
   "version": "2.7.12"
  }
 },
 "nbformat": 4,
 "nbformat_minor": 0
}
