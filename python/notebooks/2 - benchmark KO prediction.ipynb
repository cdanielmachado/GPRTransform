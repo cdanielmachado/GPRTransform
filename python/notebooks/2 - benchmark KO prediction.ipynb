{
 "cells": [
  {
   "cell_type": "code",
   "execution_count": 1,
   "metadata": {
    "collapsed": false
   },
   "outputs": [],
   "source": [
    "from framed.io_utils.sbml import load_cbmodel\n",
    "from framed.analysis.simulation import pFBA\n",
    "from framed.analysis.deletion import gene_deletion\n",
    "from framed.omics.dataset import DataSet\n",
    "from framed.experimental.benchmark import benchmark, run_method\n",
    "from framed.experimental.fluxutils import compare_fluxes, flux_distance\n",
    "from collections import OrderedDict\n",
    "import pandas as pd\n",
    "import seaborn as sns\n",
    "import matplotlib.pyplot as plt\n",
    "%matplotlib inline\n",
    "sns.set_style(\"whitegrid\")"
   ]
  },
  {
   "cell_type": "code",
   "execution_count": 11,
   "metadata": {
    "collapsed": false
   },
   "outputs": [],
   "source": [
    "%run '../src/gpr_mapping.py'\n",
    "%run '../src/simulation.py'\n",
    "%run '../src/transcriptomics.py'"
   ]
  },
  {
   "cell_type": "markdown",
   "metadata": {},
   "source": [
    "## Load model and Ishii 2007 dataset"
   ]
  },
  {
   "cell_type": "code",
   "execution_count": 12,
   "metadata": {
    "collapsed": false
   },
   "outputs": [],
   "source": [
    "model = load_cbmodel('../../models/iAF1260_reduced.xml', flavor='cobra')\n",
    "model_ext = transform(model, inplace=False)\n",
    "\n",
    "dataset = DataSet('../../data/ishii2007/dataset.json')\n",
    "measured_fluxes = ['R_EX_glc_e']\n",
    "conditions = [cond for cond in dataset.conditions if not cond.startswith('WT_')]\n",
    "ref_condition = 'WT_0.2h-1'"
   ]
  },
  {
   "cell_type": "markdown",
   "metadata": {},
   "source": [
    "## Benchmark pFBA, MOMA, lMOMA and GPR variants for Ishii knockout data"
   ]
  },
  {
   "cell_type": "code",
   "execution_count": 13,
   "metadata": {
    "collapsed": false
   },
   "outputs": [
    {
     "name": "stdout",
     "output_type": "stream",
     "text": [
      "CPU times: user 15.2 s, sys: 178 ms, total: 15.4 s\n",
      "Wall time: 17.9 s\n",
      "CPU times: user 26 s, sys: 279 ms, total: 26.3 s\n",
      "Wall time: 27.8 s\n",
      "CPU times: user 46.2 s, sys: 504 ms, total: 46.7 s\n",
      "Wall time: 46.6 s\n"
     ]
    }
   ],
   "source": [
    "%time result_pFBA = benchmark(run_pFBA, model, dataset, conditions=conditions, measured_fluxes=measured_fluxes)\n",
    "%time result_MOMA = benchmark(run_MOMA, model, dataset, conditions=conditions, measured_fluxes=measured_fluxes, reference_condition=ref_condition)\n",
    "%time result_lMOMA = benchmark(run_lMOMA, model, dataset, conditions=conditions, measured_fluxes=measured_fluxes, reference_condition=ref_condition)\n",
    "\n",
    "error_pFBA = [x[0] for x in result_pFBA.values()]\n",
    "error_MOMA = [x[0] for x in result_MOMA.values()]\n",
    "error_lMOMA = [x[0] for x in result_lMOMA.values()]"
   ]
  },
  {
   "cell_type": "code",
   "execution_count": 14,
   "metadata": {
    "collapsed": false
   },
   "outputs": [
    {
     "name": "stdout",
     "output_type": "stream",
     "text": [
      "CPU times: user 23.4 s, sys: 498 ms, total: 23.9 s\n",
      "Wall time: 23.7 s\n",
      "CPU times: user 47.2 s, sys: 710 ms, total: 47.9 s\n",
      "Wall time: 47.6 s\n",
      "CPU times: user 1min 3s, sys: 710 ms, total: 1min 3s\n",
      "Wall time: 1min 3s\n"
     ]
    }
   ],
   "source": [
    "%time result_g_pFBA = benchmark(run_g_pFBA, model_ext, dataset, conditions=conditions, measured_fluxes=measured_fluxes)\n",
    "%time result_g_MOMA = benchmark(run_g_MOMA, model_ext, dataset, conditions=conditions, measured_fluxes=measured_fluxes, reference_condition=ref_condition)\n",
    "%time result_g_lMOMA = benchmark(run_g_lMOMA, model_ext, dataset, conditions=conditions, measured_fluxes=measured_fluxes, reference_condition=ref_condition)\n",
    "\n",
    "error_g_pFBA = [x[0] for x in result_g_pFBA.values()]\n",
    "error_g_MOMA = [x[0] for x in result_g_MOMA.values()]\n",
    "error_g_lMOMA = [x[0] for x in result_g_lMOMA.values()]"
   ]
  },
  {
   "cell_type": "markdown",
   "metadata": {},
   "source": [
    "## Plot results"
   ]
  },
  {
   "cell_type": "code",
   "execution_count": 19,
   "metadata": {
    "collapsed": false
   },
   "outputs": [
    {
     "data": {
      "image/png": "[encoded data removed]",
      "text/plain": [
       "<matplotlib.figure.Figure at 0x123dddd50>"
      ]
     },
     "metadata": {},
     "output_type": "display_data"
    }
   ],
   "source": [
    "data = OrderedDict([('pFBA', error_pFBA),\n",
    "                    ('gene-pFBA', error_g_pFBA),\n",
    "                    ('MOMA', error_MOMA),\n",
    "                    ('gene-MOMA', error_g_MOMA),\n",
    "                    ('linearMOMA', error_lMOMA),\n",
    "                    ('gene-lMOMA', error_g_lMOMA)])\n",
    "\n",
    "plt.figure(figsize=(6,5))\n",
    "ax = sns.boxplot(pd.DataFrame(data), palette=sns.color_palette(\"muted\", n_colors=2))\n",
    "ax.set_xticklabels(ax.xaxis.get_majorticklabels(), rotation=30)\n",
    "\n",
    "plt.ylim((0,0.6))\n",
    "plt.ylabel('error')\n",
    "plt.tight_layout()\n",
    "plt.savefig('../../results/benchmark/knockouts.png', dpi=150)"
   ]
  },
  {
   "cell_type": "code",
   "execution_count": null,
   "metadata": {
    "collapsed": true
   },
   "outputs": [],
   "source": []
  }
 ],
 "metadata": {
  "kernelspec": {
   "display_name": "Python 2",
   "language": "python",
   "name": "python2"
  },
  "language_info": {
   "codemirror_mode": {
    "name": "ipython",
    "version": 2
   },
   "file_extension": ".py",
   "mimetype": "text/x-python",
   "name": "python",
   "nbconvert_exporter": "python",
   "pygments_lexer": "ipython2",
   "version": "2.7.12"
  }
 },
 "nbformat": 4,
 "nbformat_minor": 0
}
