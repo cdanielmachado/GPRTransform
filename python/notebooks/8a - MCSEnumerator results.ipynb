{
 "cells": [
  {
   "cell_type": "code",
   "execution_count": null,
   "metadata": {
    "collapsed": false
   },
   "outputs": [],
   "source": [
    "from framed.io_utils.sbml import load_cbmodel\n",
    "from pickle import dump, load\n",
    "import pandas as pd\n",
    "from scipy.io import loadmat\n",
    "import matplotlib.pyplot as plt\n",
    "import seaborn as sns\n",
    "%matplotlib inline\n",
    "sns.set_style('whitegrid')"
   ]
  },
  {
   "cell_type": "code",
   "execution_count": null,
   "metadata": {
    "collapsed": false
   },
   "outputs": [],
   "source": [
    "%run '../src/straindesign.py'"
   ]
  },
  {
   "cell_type": "markdown",
   "metadata": {
    "collapsed": true
   },
   "source": [
    "## Load (customized) iAF1260 model "
   ]
  },
  {
   "cell_type": "code",
   "execution_count": null,
   "metadata": {
    "collapsed": false
   },
   "outputs": [],
   "source": [
    "model = load_cbmodel('../../models/iAF1260_MCSEnum.xml', flavor='cobra')\n",
    "\n",
    "biomass = model.detect_biomass_reaction()\n",
    "product = 'R_EX_etoh_e'\n",
    "oxygen = 'R_EX_o2_e'\n",
    "glucose = 'R_EX_glc_e'\n",
    "objective = lambda v: v[product]\n",
    "min_growth = 0.001\n",
    "max_uptake = 10\n",
    "min_yield = 1.4\n",
    "min_prod = min_yield*max_uptake\n",
    "model.set_lower_bound(oxygen, 0)\n",
    "model.set_lower_bound(glucose, -max_uptake)\n",
    "constraints={biomass: (min_growth, 1000), product: (min_prod, 1000)}"
   ]
  },
  {
   "cell_type": "markdown",
   "metadata": {
    "collapsed": true
   },
   "source": [
    "## Load MCSEnumerator results (scenario 1)"
   ]
  },
  {
   "cell_type": "code",
   "execution_count": null,
   "metadata": {
    "collapsed": false
   },
   "outputs": [],
   "source": [
    "data = loadmat('../../results/mcs/mcs_iAF1260_MCSEnum_max7.mat')\n",
    "cmcs = pd.DataFrame(data['cmcs'].T, index=model.reactions.keys())\n",
    "rxn_dels = [cmcs[cmcs[col] == 1].index.tolist() for col in cmcs]"
   ]
  },
  {
   "cell_type": "markdown",
   "metadata": {},
   "source": [
    "## Compute gene based solutions "
   ]
  },
  {
   "cell_type": "code",
   "execution_count": null,
   "metadata": {
    "collapsed": false
   },
   "outputs": [],
   "source": [
    "parse_model_rules(model)"
   ]
  },
  {
   "cell_type": "code",
   "execution_count": null,
   "metadata": {
    "collapsed": false
   },
   "outputs": [],
   "source": [
    "%time rxns2genes = expand_gene_sets(model, rxn_dels)"
   ]
  },
  {
   "cell_type": "code",
   "execution_count": null,
   "metadata": {
    "collapsed": false
   },
   "outputs": [],
   "source": [
    "%time rxns2rxns = gene_to_reaction_sets(model, rxns2genes)"
   ]
  },
  {
   "cell_type": "code",
   "execution_count": null,
   "metadata": {
    "collapsed": false
   },
   "outputs": [],
   "source": [
    "%time solution_pool = build_reaction_solution_pool(model, rxns2rxns, constraints)"
   ]
  },
  {
   "cell_type": "markdown",
   "metadata": {
    "collapsed": true
   },
   "source": [
    "## Analyse results"
   ]
  },
  {
   "cell_type": "code",
   "execution_count": null,
   "metadata": {
    "collapsed": false
   },
   "outputs": [],
   "source": [
    "sizes = sorted(set(map(len, rxns2genes.keys())))\n",
    "\n",
    "columns = ['cMCSs', 'knockable', 'gene-wise total', 'reaction-wise total', \n",
    "           'feasible', 'gene deletion size', 'reaction deletion size']\n",
    "\n",
    "cMCS_count = []\n",
    "knockable_count = []\n",
    "gene_set_count = []\n",
    "true_rxns_count = []\n",
    "valid_rxns_count = []\n",
    "invalid_rxns_count = []\n",
    "gene_set_sizes = []\n",
    "rxn_set_sizes = []\n",
    "stats = pd.DataFrame([], columns=columns)\n",
    "\n",
    "for n_dels in sizes:\n",
    "    total_sets = [rxn_set for rxn_set in rxn_dels if len(rxn_set) == n_dels]\n",
    "    cMCS_count.append(len(total_sets))\n",
    "\n",
    "    knockable_sets = [rxn_set for rxn_set in rxns2genes.keys() if len(rxn_set) == n_dels]\n",
    "    knockable_count.append(len(knockable_sets))\n",
    "\n",
    "    gene_sets = set([gene_set for rxn_set in knockable_sets \n",
    "                     for gene_set in rxns2genes[rxn_set]])\n",
    "    gene_set_count.append(len(gene_sets))\n",
    "\n",
    "    true_rxn_sets = set([true_rxn_set for rxn_set in knockable_sets \n",
    "                         for true_rxn_set in rxns2rxns[rxn_set]])\n",
    "    true_rxns_count.append(len(true_rxn_sets))\n",
    "\n",
    "    valid_rxn_sets = [rxn_set for rxn_set in true_rxn_sets \n",
    "                      if solution_pool[rxn_set].valid]\n",
    "    valid_rxns_count.append(len(valid_rxn_sets))\n",
    "\n",
    "    invalid_rxn_sets = [rxn_set for rxn_set in true_rxn_sets \n",
    "                        if not solution_pool[rxn_set].valid]\n",
    "    invalid_rxns_count.append(len(invalid_rxn_sets))\n",
    "\n",
    "    gene_set_size = map(len, gene_sets)\n",
    "    gene_set_sizes.append(gene_set_size)\n",
    "\n",
    "    rxn_set_size = map(len, true_rxn_sets)\n",
    "    rxn_set_sizes.append(rxn_set_size)\n",
    "\n",
    "    stats.loc[n_dels] = (len(total_sets),\n",
    "                      len(knockable_sets),\n",
    "                      len(gene_sets),\n",
    "                      len(true_rxn_sets),\n",
    "                      len(valid_rxn_sets),\n",
    "                      '[{} - {}]'.format(min(gene_set_size), max(gene_set_size)),\n",
    "                      '[{} - {}]'.format(min(rxn_set_size), max(rxn_set_size)))\n",
    "\n",
    "stats.index.name = 'n dels'"
   ]
  },
  {
   "cell_type": "markdown",
   "metadata": {},
   "source": [
    "## Store statistics as table"
   ]
  },
  {
   "cell_type": "code",
   "execution_count": null,
   "metadata": {
    "collapsed": false
   },
   "outputs": [],
   "source": [
    "stats.to_csv('../results/mcs/mcs_iAF1260_MCSEnum_summary.csv')"
   ]
  },
  {
   "cell_type": "markdown",
   "metadata": {},
   "source": [
    "## Generate plots"
   ]
  },
  {
   "cell_type": "code",
   "execution_count": null,
   "metadata": {
    "collapsed": false
   },
   "outputs": [],
   "source": [
    "colors = sns.color_palette()\n",
    "\n",
    "plt.figure(figsize=(4,3))\n",
    "sns.barplot(sizes, cMCS_count, log=True, color=colors[0])\n",
    "plt.xlabel('cut set size')\n",
    "plt.ylabel('# of cMCS')\n",
    "plt.tight_layout()\n",
    "plt.savefig('../results/mcs/plots/cmcs_size.png', dpi=150)"
   ]
  },
  {
   "cell_type": "code",
   "execution_count": null,
   "metadata": {
    "collapsed": false
   },
   "outputs": [],
   "source": [
    "plt.figure(figsize=(4,3))\n",
    "sns.barplot(sizes, gene_set_count, log=True, color=colors[0])\n",
    "plt.xlabel('cut set size')\n",
    "plt.ylabel('# of gene-wise solutions')\n",
    "plt.yticks([1e0, 1e2, 1e4, 1e6, 1e8])\n",
    "plt.tight_layout()\n",
    "plt.savefig('../results/mcs/plots/gene_sol_size.png', dpi=150)"
   ]
  },
  {
   "cell_type": "code",
   "execution_count": null,
   "metadata": {
    "collapsed": false
   },
   "outputs": [],
   "source": [
    "plt.figure(figsize=(4,3))\n",
    "df = pd.DataFrame({'feasible': valid_rxns_count, 'infeasible': invalid_rxns_count, 'size': sizes})\n",
    "df = pd.melt(df, id_vars=['size'])\n",
    "df.columns = ['size', '', 'count']\n",
    "sns.barplot(data=df, x='size', y='count', hue='', log=True, palette=colors[1:3])\n",
    "plt.xlabel('cut set size')\n",
    "plt.ylabel('# of solutions')\n",
    "plt.tight_layout()\n",
    "plt.savefig('../results/mcs/plots/rxn_sol_size.png', dpi=150)"
   ]
  },
  {
   "cell_type": "code",
   "execution_count": null,
   "metadata": {
    "collapsed": false
   },
   "outputs": [],
   "source": [
    "plt.figure(figsize=(4,3))\n",
    "ax = sns.boxplot(pd.DataFrame(gene_set_sizes, index=sizes).T, fliersize=5, sym='o', color=colors[0])\n",
    "plt.xlabel('cut set size')\n",
    "plt.ylabel('gene deletion size')\n",
    "plt.tight_layout()\n",
    "plt.ylim((0, 22))\n",
    "plt.savefig('../results/mcs/plots/gene_cut_size.png', dpi=150)"
   ]
  },
  {
   "cell_type": "code",
   "execution_count": null,
   "metadata": {
    "collapsed": false
   },
   "outputs": [],
   "source": [
    "plt.figure(figsize=(4,3))\n",
    "ax = sns.boxplot(pd.DataFrame(rxn_set_sizes, index=sizes).T, fliersize=5, sym='o', color=colors[0])\n",
    "plt.xlabel('cut set size')\n",
    "plt.ylabel('reaction deletion size')\n",
    "plt.yticks([0, 100, 200, 300])\n",
    "plt.tight_layout()\n",
    "plt.savefig('../results/mcs/plots/rxn_cut_size.png', dpi=150)"
   ]
  },
  {
   "cell_type": "code",
   "execution_count": null,
   "metadata": {
    "collapsed": true
   },
   "outputs": [],
   "source": []
  }
 ],
 "metadata": {
  "kernelspec": {
   "display_name": "Python 2",
   "language": "python",
   "name": "python2"
  },
  "language_info": {
   "codemirror_mode": {
    "name": "ipython",
    "version": 2
   },
   "file_extension": ".py",
   "mimetype": "text/x-python",
   "name": "python",
   "nbconvert_exporter": "python",
   "pygments_lexer": "ipython2",
   "version": "2.7.12"
  }
 },
 "nbformat": 4,
 "nbformat_minor": 0
}
