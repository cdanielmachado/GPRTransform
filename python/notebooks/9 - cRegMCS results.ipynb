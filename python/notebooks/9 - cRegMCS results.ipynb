{
 "cells": [
  {
   "cell_type": "code",
   "execution_count": 40,
   "metadata": {
    "collapsed": true
   },
   "outputs": [],
   "source": [
    "import pandas as pd\n",
    "import matplotlib.pyplot as plt\n",
    "import seaborn as sns\n",
    "import numpy as np\n",
    "%matplotlib inline\n",
    "sns.set_style(\"white\")"
   ]
  },
  {
   "cell_type": "code",
   "execution_count": 22,
   "metadata": {
    "collapsed": false
   },
   "outputs": [],
   "source": [
    "data = pd.read_csv('../../results/cregmcs/results_ethanol.txt', header=None)\n",
    "data = data[0].apply(lambda x: x.strip().split('\\t'))\n",
    "sizes = data.apply(len)"
   ]
  },
  {
   "cell_type": "code",
   "execution_count": 68,
   "metadata": {
    "collapsed": false
   },
   "outputs": [],
   "source": [
    "cut_size = range(2,4)\n",
    "n_kos = [len([x for y in data for x in y if len(y) == i and '=' not in x]) for i in cut_size]\n",
    "n_up = [len([x for y in data for x in y if len(y) == i and '>=' in x]) for i in cut_size]\n",
    "n_down = [len([x for y in data for x in y if len(y) == i and '<=' in x]) for i in cut_size]\n",
    "n_kos = np.array(n_kos)\n",
    "n_up = np.array(n_up)\n",
    "n_down = np.array(n_down)"
   ]
  },
  {
   "cell_type": "code",
   "execution_count": 96,
   "metadata": {
    "collapsed": false
   },
   "outputs": [
    {
     "data": {
      "image/png": "[encoded data removed]",
      "text/plain": [
       "<matplotlib.figure.Figure at 0x11a365890>"
      ]
     },
     "metadata": {},
     "output_type": "display_data"
    }
   ],
   "source": [
    "plt.figure(figsize=(8, 4))\n",
    "plt.subplot(1,2,1)\n",
    "plt.hist(sizes, log=True, bins=np.arange(1.5, 4.5), rwidth=0.8, align='mid')\n",
    "plt.xticks([2, 3])\n",
    "plt.ylim((1e0, 1e4))\n",
    "plt.xlabel('cut set size')\n",
    "plt.ylabel('# of solutions')\n",
    "plt.title('A) Number of solutions')\n",
    "\n",
    "plt.subplot(1,2,2)\n",
    "colors = sns.color_palette()\n",
    "plt.bar(cut_size, n_kos, log=True, color=colors[0], align='center')\n",
    "plt.bar(cut_size, n_down, bottom=n_kos, log=True, color=colors[2], align='center')\n",
    "plt.bar(cut_size, n_up, bottom=n_kos+n_down, log=True, color=colors[1], align='center')\n",
    "plt.xticks([2, 3])\n",
    "plt.legend(['deletion', 'down-regulation', 'up-regulation'], loc='upper left')\n",
    "plt.xlabel('cut set size')\n",
    "plt.ylabel('# of interventions')\n",
    "plt.title('B) Type of interventions')\n",
    "\n",
    "plt.tight_layout()\n",
    "plt.savefig('../../results/cregmcs/cregmcs.png', dpi=150)\n"
   ]
  },
  {
   "cell_type": "code",
   "execution_count": null,
   "metadata": {
    "collapsed": true
   },
   "outputs": [],
   "source": []
  }
 ],
 "metadata": {
  "kernelspec": {
   "display_name": "Python 2",
   "language": "python",
   "name": "python2"
  },
  "language_info": {
   "codemirror_mode": {
    "name": "ipython",
    "version": 2
   },
   "file_extension": ".py",
   "mimetype": "text/x-python",
   "name": "python",
   "nbconvert_exporter": "python",
   "pygments_lexer": "ipython2",
   "version": "2.7.12"
  }
 },
 "nbformat": 4,
 "nbformat_minor": 0
}
